{
 "cells": [
  {
   "cell_type": "code",
   "execution_count": 1,
   "metadata": {},
   "outputs": [
    {
     "name": "stderr",
     "output_type": "stream",
     "text": [
      "┌ Info: Installing pyqt package to avoid buggy tkagg backend.\n",
      "└ @ PyPlot /Users/kentatakatsu/.julia/packages/PyPlot/4wzW1/src/init.jl:118\n"
     ]
    }
   ],
   "source": [
    "using Gen\n",
    "using PyPlot\n",
    "using ProgressBars"
   ]
  },
  {
   "cell_type": "markdown",
   "metadata": {},
   "source": [
    "### 0. generate synthetic data"
   ]
  },
  {
   "cell_type": "code",
   "execution_count": 2,
   "metadata": {},
   "outputs": [
    {
     "data": {
      "image/png": "[encoded data removed]",
      "text/plain": [
       "Figure(PyObject <Figure size 500x300 with 1 Axes>)"
      ]
     },
     "metadata": {},
     "output_type": "display_data"
    },
    {
     "data": {
      "text/plain": [
       "([10.0, 21.0, 12.0, 6.0, 1.0, 1.0, 8.0, 14.0, 22.0, 5.0], [-1.5683599810347877, -1.24003651073576, -0.9117130404367324, -0.5833895701377048, -0.2550660998386771, 0.07325737046035052, 0.40158084075937817, 0.729904311058406, 1.0582277813574335, 1.3865512516564609, 1.7148747219554887], PyCall.PyObject[PyObject <matplotlib.patches.Rectangle object at 0x156db20f0>, PyObject <matplotlib.patches.Rectangle object at 0x154ca1e48>, PyObject <matplotlib.patches.Rectangle object at 0x156db26a0>, PyObject <matplotlib.patches.Rectangle object at 0x156db29b0>, PyObject <matplotlib.patches.Rectangle object at 0x156db2cc0>, PyObject <matplotlib.patches.Rectangle object at 0x156db2fd0>, PyObject <matplotlib.patches.Rectangle object at 0x156dc3320>, PyObject <matplotlib.patches.Rectangle object at 0x156dc3630>, PyObject <matplotlib.patches.Rectangle object at 0x156dc3940>, PyObject <matplotlib.patches.Rectangle object at 0x156dc3c50>])"
      ]
     },
     "execution_count": 2,
     "metadata": {},
     "output_type": "execute_result"
    }
   ],
   "source": [
    "# generate gaussian data with mean at -1 and 1\n",
    "N = 100\n",
    "mu1, mu2 = -1, 1\n",
    "sigma1, sigma2 = 0.3, 0.3\n",
    "X1 = [Gen.normal(mu1, sigma1) for _ in 1:Int(N/2)]\n",
    "X2 = [Gen.normal(mu2, sigma2) for _ in 1:Int(N/2)]\n",
    "X = vcat([X1, X2]...)\n",
    "figure(figsize=(5,3))\n",
    "hist(X)"
   ]
  },
  {
   "cell_type": "markdown",
   "metadata": {},
   "source": [
    "### 1 finite mixture model with 2 components"
   ]
  },
  {
   "cell_type": "code",
   "execution_count": 3,
   "metadata": {},
   "outputs": [
    {
     "data": {
      "text/plain": [
       "DynamicDSLFunction{Any}(Dict{Symbol,Any}(), Dict{Symbol,Any}(), Type[Int64, Int64], false, Union{Nothing, Some{Any}}[nothing, nothing], ##FGMM#374, Bool[0, 0], false)"
      ]
     },
     "execution_count": 3,
     "metadata": {},
     "output_type": "execute_result"
    }
   ],
   "source": [
    "# define generative functions\n",
    "include(\"../src/dirichlet.jl\")\n",
    "\n",
    "# map gaussian distribution\n",
    "@gen function generate_normal(mean::Float64, scale::Float64)\n",
    "    return @trace(normal(mean, scale), :normal)\n",
    "end\n",
    "map_normal = Map(generate_normal)\n",
    "\n",
    "# multinomiral with dirichlet prior\n",
    "@gen function DirichletMulti(alpha, K::Int64, N::Int64)\n",
    "    base = fill(alpha, K)\n",
    "    pi = dirichlet(base)\n",
    "    obj = [@trace(categorical(pi), i=>:c) for i in 1:N]\n",
    "    return obj\n",
    "end\n",
    "\n",
    "# gaussian mixture model given list of Int for the component class\n",
    "@gen function GMM(k, c_label)\n",
    "    n = length(c_label)\n",
    "    # mean \n",
    "    muVar = @trace(inv_gamma(4.0, 4.0), :muVar)\n",
    "    mu = @trace(map_normal(fill(0, k), fill(muVar, k)), :mu)\n",
    "    # generate X\n",
    "    xNoise = @trace(inv_gamma(4.0, 4.0), :xNoise)\n",
    "    X = @trace(map_normal(mu[c_label], fill(xNoise, n)), :X)\n",
    "end\n",
    "\n",
    "# finite gaussian mixture model with K components\n",
    "@gen function FGMM(K::Int64, N::Int64)\n",
    "    alpha = @trace(Gen.gamma(1, 1), :alpha) # prior for the concentration parameter\n",
    "    class_label = @trace(DirichletMulti(alpha, K, N), :Cluster) # generate cluster labels\n",
    "    X = @trace(GMM(K, class_label), :Outcome) # generate X given class labels\n",
    "    return X\n",
    "end"
   ]
  },
  {
   "cell_type": "code",
   "execution_count": 4,
   "metadata": {},
   "outputs": [
    {
     "data": {
      "text/plain": [
       "DynamicDSLFunction{Any}(Dict{Symbol,Any}(), Dict{Symbol,Any}(), Type[Any, Any, Float64], false, Union{Nothing, Some{Any}}[nothing, nothing, nothing], ##invGammaProposal#375, Bool[0, 0, 0], false)"
      ]
     },
     "execution_count": 4,
     "metadata": {},
     "output_type": "execute_result"
    }
   ],
   "source": [
    "@gen function invGammaProposal(trace, key, var::Float64)\n",
    "    cur = trace[key]\n",
    "    Shape = (cur * cur / var) + 2\n",
    "    Scale = cur * (Shape - 1)\n",
    "    return @trace(inv_gamma(Shape, Scale), key)\n",
    "end"
   ]
  },
  {
   "cell_type": "code",
   "execution_count": 5,
   "metadata": {},
   "outputs": [
    {
     "name": "stdout",
     "output_type": "stream",
     "text": [
      "100.00%┣██████████████████████████████████████████████████████████▉┫ 500/500 00:08<00:00, 61.09 it/s]\n"
     ]
    }
   ],
   "source": [
    "# sample parameters from posterior distribution\n",
    "include(\"../src/inference.jl\")\n",
    "using .Inference\n",
    "\n",
    "\n",
    "# set observation\n",
    "obs = Gen.choicemap()\n",
    "for i in 1:N\n",
    "    obs[:Outcome=>:X => i => :normal] = X[i]\n",
    "end\n",
    "\n",
    "K = 2 # components to model\n",
    "n_samples = 500 # number of posterior samples\n",
    "trace, weight = generate(FGMM, (K, N,), obs)\n",
    "posterior_samples = []\n",
    "for _ in tqdm(1:n_samples)\n",
    "    # sample concentration alpha\n",
    "    trace = alpha_gibbs(trace, K)\n",
    "    # sample class labels\n",
    "    trace = class_gibbs(trace, K)\n",
    "    # sample Mu\n",
    "    trace = mu_gibbs(trace, K)\n",
    "    # sample noises (rest relies on Gen's mh)\n",
    "    (trace, _) = mh(trace, invGammaProposal, (:Outcome=>:xNoise, 0.5, ))\n",
    "    (trace, _) = mh(trace, invGammaProposal, (:Outcome=>:muVar, 0.5, ))\n",
    "    \n",
    "    push!(posterior_samples, get_choices(trace))\n",
    "end"
   ]
  },
  {
   "cell_type": "code",
   "execution_count": 6,
   "metadata": {},
   "outputs": [
    {
     "data": {
      "image/png": "[encoded data removed]",
      "text/plain": [
       "Figure(PyObject <Figure size 500x200 with 1 Axes>)"
      ]
     },
     "metadata": {},
     "output_type": "display_data"
    },
    {
     "data": {
      "text/plain": [
       "1-element Array{PyCall.PyObject,1}:\n",
       " PyObject <matplotlib.lines.Line2D object at 0x156ecc518>"
      ]
     },
     "execution_count": 6,
     "metadata": {},
     "output_type": "execute_result"
    }
   ],
   "source": [
    "# samples of latent mean (should be near -1 and 1)\n",
    "figure(figsize=(5,2))\n",
    "plot([p[:Outcome=>:mu=>1=>:normal] for p in posterior_samples])\n",
    "plot([p[:Outcome=>:mu=>2=>:normal] for p in posterior_samples])"
   ]
  },
  {
   "cell_type": "code",
   "execution_count": null,
   "metadata": {},
   "outputs": [],
   "source": []
  }
 ],
 "metadata": {
  "kernelspec": {
   "display_name": "Julia 1.2.0",
   "language": "julia",
   "name": "julia-1.2"
  },
  "language_info": {
   "file_extension": ".jl",
   "mimetype": "application/julia",
   "name": "julia",
   "version": "1.2.0"
  }
 },
 "nbformat": 4,
 "nbformat_minor": 4
}
